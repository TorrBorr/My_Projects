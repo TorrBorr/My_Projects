{
 "cells": [
  {
   "cell_type": "code",
   "execution_count": 1,
   "metadata": {
    "collapsed": true
   },
   "outputs": [],
   "source": [
    "import time\n",
    "import itertools\n",
    "import time, os, fnmatch, shutil\n",
    "import pickle\n",
    "import re\n",
    "# Python 2 & 3 Compatibility\n",
    "from __future__ import print_function, division\n",
    "\n",
    "# Necessary imports\n",
    "import pandas as pd\n",
    "import numpy as np\n",
    "import statsmodels.api as sm\n",
    "import statsmodels.formula.api as smf\n",
    "import patsy\n",
    "import seaborn as sns\n",
    "from seaborn import plt\n",
    "import matplotlib\n",
    "\n",
    "matplotlib.rcParams.update({'font.size': 22})\n",
    "\n",
    "%matplotlib inline\n",
    "\n",
    "from __future__ import print_function, division\n",
    "import requests"
   ]
  },
  {
   "cell_type": "code",
   "execution_count": 2,
   "metadata": {
    "collapsed": true
   },
   "outputs": [],
   "source": [
    "import pandas as pd\n",
    "\n",
    "df_ip_payments = pd.read_csv('Inpatient_Prospective_Payment_System__IPPS__Provider_Summary_for_the_Top_100_Diagnosis-Related_Groups__DRG__-_FY2011.csv')\n",
    "df_op_payments = pd.read_csv('Medicare_Provider_Charge_Outpatient_APC32_CY2014.csv')\n",
    "df_hospitals = pd.read_csv('Hospital_General_Information.csv')"
   ]
  },
  {
   "cell_type": "code",
   "execution_count": 3,
   "metadata": {
    "collapsed": false
   },
   "outputs": [
    {
     "data": {
      "text/plain": [
       "Index([u'apc', u'provider_id', u'provider_name', u'Provider_Street_Address',\n",
       "       u'Provider_City', u'Provider_State', u'Provider_Zip_Code',\n",
       "       u'Hospital_Referral_Region', u'Outpatient_Services',\n",
       "       u'Average_Estimated_Submitted_Charges', u'Average_Total_Payments'],\n",
       "      dtype='object')"
      ]
     },
     "execution_count": 3,
     "metadata": {},
     "output_type": "execute_result"
    }
   ],
   "source": [
    "df_op_payments.columns = df_op_payments.columns.str.strip()\n",
    "df_op_payments.columns = df_op_payments.columns.str.replace(' ','_')\n",
    "df_op_payments.columns"
   ]
  },
  {
   "cell_type": "code",
   "execution_count": 4,
   "metadata": {
    "collapsed": false
   },
   "outputs": [
    {
     "data": {
      "text/html": [
       "<div>\n",
       "<table border=\"1\" class=\"dataframe\">\n",
       "  <thead>\n",
       "    <tr style=\"text-align: right;\">\n",
       "      <th></th>\n",
       "      <th>apc</th>\n",
       "      <th>provider_id</th>\n",
       "      <th>provider_name</th>\n",
       "      <th>Provider_Street_Address</th>\n",
       "      <th>Provider_City</th>\n",
       "      <th>Provider_State</th>\n",
       "      <th>Provider_Zip_Code</th>\n",
       "      <th>Hospital_Referral_Region</th>\n",
       "      <th>Outpatient_Services</th>\n",
       "      <th>Average_Estimated_Submitted_Charges</th>\n",
       "      <th>Average_Total_Payments</th>\n",
       "    </tr>\n",
       "  </thead>\n",
       "  <tbody>\n",
       "    <tr>\n",
       "      <th>0</th>\n",
       "      <td>0012 - Level I Debridement &amp; Destruction</td>\n",
       "      <td>40055</td>\n",
       "      <td>SPARKS REGIONAL MEDICAL CENTER</td>\n",
       "      <td>1001 TOWSON AVENUE</td>\n",
       "      <td>FORT SMITH</td>\n",
       "      <td>AR</td>\n",
       "      <td>72902</td>\n",
       "      <td>AR - Fort Smith</td>\n",
       "      <td>279</td>\n",
       "      <td>208.986595</td>\n",
       "      <td>43.367670</td>\n",
       "    </tr>\n",
       "    <tr>\n",
       "      <th>1</th>\n",
       "      <td>0012 - Level I Debridement &amp; Destruction</td>\n",
       "      <td>50017</td>\n",
       "      <td>MERCY GENERAL HOSPITAL</td>\n",
       "      <td>4001 J ST</td>\n",
       "      <td>SACRAMENTO</td>\n",
       "      <td>CA</td>\n",
       "      <td>95819</td>\n",
       "      <td>CA - Sacramento</td>\n",
       "      <td>25</td>\n",
       "      <td>239.600000</td>\n",
       "      <td>77.549200</td>\n",
       "    </tr>\n",
       "    <tr>\n",
       "      <th>2</th>\n",
       "      <td>0012 - Level I Debridement &amp; Destruction</td>\n",
       "      <td>50320</td>\n",
       "      <td>HIGHLAND HOSPITAL</td>\n",
       "      <td>1411 E 31ST STREET</td>\n",
       "      <td>OAKLAND</td>\n",
       "      <td>CA</td>\n",
       "      <td>94602</td>\n",
       "      <td>CA - Alameda County</td>\n",
       "      <td>58</td>\n",
       "      <td>123.689655</td>\n",
       "      <td>71.485517</td>\n",
       "    </tr>\n",
       "    <tr>\n",
       "      <th>3</th>\n",
       "      <td>0012 - Level I Debridement &amp; Destruction</td>\n",
       "      <td>50357</td>\n",
       "      <td>GOLETA VALLEY COTTAGE HOSPITAL</td>\n",
       "      <td>351 S PATTERSON AVE</td>\n",
       "      <td>SANTA BARBARA</td>\n",
       "      <td>CA</td>\n",
       "      <td>93111</td>\n",
       "      <td>CA - Santa Barbara</td>\n",
       "      <td>38</td>\n",
       "      <td>292.386316</td>\n",
       "      <td>52.500000</td>\n",
       "    </tr>\n",
       "    <tr>\n",
       "      <th>4</th>\n",
       "      <td>0012 - Level I Debridement &amp; Destruction</td>\n",
       "      <td>30064</td>\n",
       "      <td>BANNER-UNIVERSITY MEDICAL CENTER TUCSON CAMPUS</td>\n",
       "      <td>1501 NORTH CAMPBELL AVENUE</td>\n",
       "      <td>TUCSON</td>\n",
       "      <td>AZ</td>\n",
       "      <td>85724</td>\n",
       "      <td>AZ - Tucson</td>\n",
       "      <td>132</td>\n",
       "      <td>267.625000</td>\n",
       "      <td>53.116894</td>\n",
       "    </tr>\n",
       "  </tbody>\n",
       "</table>\n",
       "</div>"
      ],
      "text/plain": [
       "                                        apc  provider_id  \\\n",
       "0  0012 - Level I Debridement & Destruction        40055   \n",
       "1  0012 - Level I Debridement & Destruction        50017   \n",
       "2  0012 - Level I Debridement & Destruction        50320   \n",
       "3  0012 - Level I Debridement & Destruction        50357   \n",
       "4  0012 - Level I Debridement & Destruction        30064   \n",
       "\n",
       "                                    provider_name     Provider_Street_Address  \\\n",
       "0                  SPARKS REGIONAL MEDICAL CENTER          1001 TOWSON AVENUE   \n",
       "1                          MERCY GENERAL HOSPITAL                   4001 J ST   \n",
       "2                               HIGHLAND HOSPITAL          1411 E 31ST STREET   \n",
       "3                  GOLETA VALLEY COTTAGE HOSPITAL         351 S PATTERSON AVE   \n",
       "4  BANNER-UNIVERSITY MEDICAL CENTER TUCSON CAMPUS  1501 NORTH CAMPBELL AVENUE   \n",
       "\n",
       "   Provider_City Provider_State  Provider_Zip_Code Hospital_Referral_Region  \\\n",
       "0     FORT SMITH             AR              72902          AR - Fort Smith   \n",
       "1     SACRAMENTO             CA              95819          CA - Sacramento   \n",
       "2        OAKLAND             CA              94602      CA - Alameda County   \n",
       "3  SANTA BARBARA             CA              93111       CA - Santa Barbara   \n",
       "4         TUCSON             AZ              85724              AZ - Tucson   \n",
       "\n",
       "   Outpatient_Services  Average_Estimated_Submitted_Charges  \\\n",
       "0                  279                           208.986595   \n",
       "1                   25                           239.600000   \n",
       "2                   58                           123.689655   \n",
       "3                   38                           292.386316   \n",
       "4                  132                           267.625000   \n",
       "\n",
       "   Average_Total_Payments  \n",
       "0               43.367670  \n",
       "1               77.549200  \n",
       "2               71.485517  \n",
       "3               52.500000  \n",
       "4               53.116894  "
      ]
     },
     "execution_count": 4,
     "metadata": {},
     "output_type": "execute_result"
    }
   ],
   "source": [
    "df_op_payments.head()"
   ]
  },
  {
   "cell_type": "code",
   "execution_count": null,
   "metadata": {
    "collapsed": true
   },
   "outputs": [],
   "source": []
  }
 ],
 "metadata": {
  "kernelspec": {
   "display_name": "Python 2",
   "language": "python",
   "name": "python2"
  },
  "language_info": {
   "codemirror_mode": {
    "name": "ipython",
    "version": 2
   },
   "file_extension": ".py",
   "mimetype": "text/x-python",
   "name": "python",
   "nbconvert_exporter": "python",
   "pygments_lexer": "ipython2",
   "version": "2.7.13"
  }
 },
 "nbformat": 4,
 "nbformat_minor": 2
}
